{
  "nbformat": 4,
  "nbformat_minor": 0,
  "metadata": {
    "kernelspec": {
      "name": "python3",
      "display_name": "Python 3"
    },
    "colab": {
      "name": "hw4.ipynb",
      "provenance": [],
      "collapsed_sections": []
    }
  },
  "cells": [
    {
      "cell_type": "markdown",
      "metadata": {
        "id": "nuCFdN40kD3N"
      },
      "source": [
        "\n",
        "\n",
        "```\n",
        "# This is formatted as code\n",
        "```\n",
        "\n",
        "# Assignment 4: Differentiation and optimization"
      ]
    },
    {
      "cell_type": "code",
      "metadata": {
        "id": "EbQdRNfPkD3N"
      },
      "source": [
        "import sympy as sym # symbolic differentiation\n",
        "import jax          # algorithmic differentiation\n",
        "import jax.numpy as np\n",
        "import matplotlib.pyplot as plt"
      ],
      "execution_count": 3,
      "outputs": []
    },
    {
      "cell_type": "markdown",
      "metadata": {
        "id": "0NFDA3uFHcf_"
      },
      "source": [
        "## Question 1: Differentiations\n",
        "\n",
        "Function \n",
        "\n",
        "$$f(a, b) = \\frac a b cos(a)^2 \\exp \\left( - \\frac {a^2} {b^2}\\right)$$\n",
        "\n",
        "is given."
      ]
    },
    {
      "cell_type": "markdown",
      "source": [
        ""
      ],
      "metadata": {
        "id": "UjE8JWL1LFTh"
      }
    },
    {
      "cell_type": "markdown",
      "metadata": {
        "id": "CvlvWUY1WdMZ"
      },
      "source": [
        "1. Derive the partial derivatives of $f(a, b)$ by $a$ and $b$. (Write them in this text)\n",
        "\n",
        "    $$\\frac {\\partial f} {\\partial a} = e^{-a^2}\\cos ^2\\left(a\\right)+a\\left(-e^{-a^2}\\sin \\left(2a\\right)-2ae^{-a^2}\\cos ^2\\left(a\\right)\\right) $$ \n",
        "    $$\\frac {\\partial f} {\\partial b} = \\cos ^2\\left(1\\right)\\left(-\\frac{e^{-\\frac{1}{b^2}}}{b^2}+\\frac{2e^{-\\frac{1}{b^2}}}{b^4}\\right) $$"
      ]
    },
    {
      "cell_type": "markdown",
      "metadata": {
        "id": "teHG_JS4ZE9s"
      },
      "source": [
        "2. Implement the derivatives as Python functions:\n",
        "  1. According to symbolic expressions. (print the expressions)\n",
        "  2. Using algorithmic differentiation (with `jax`).\n",
        "      * For a two variable function, $ f(a,b) $, its gradients by $x$ and $y$ can be obtained like this: df_dxy = jax.grad(f, argnums=(0, 1)). The x, and y derivatives are then: df_dxy[0] = df_dx, and df_dxy[1] = df_dy.\n",
        "\n",
        "$-$\n",
        "\n",
        "  \n",
        "Compare the accuracy of symbolic and algorithmic differentiation:\n",
        "\n",
        "\n",
        "1.   Choose a number of points in the range: $a\\in(-20, 20)$, and $b\\in(1, 100)$.\n",
        "2.   Calculate the squared error between simbolic and algorithmic differentiation for each set of points $(a,b)$.\n",
        "3. Average all the errors. (print the average error obtained)\n",
        "\n"
      ]
    },
    {
      "cell_type": "code",
      "metadata": {
        "id": "vJV-ytPHZJRR",
        "colab": {
          "base_uri": "https://localhost:8080/"
        },
        "outputId": "ae8b1d44-556f-4921-a42f-ece0559aca78"
      },
      "source": [
        "import jax.numpy as jnp\n",
        "from sympy import symbols, cos, diff\n",
        "\n",
        "\n",
        "a = sym.Symbol('a')\n",
        "b = sym.Symbol('b')\n",
        "f=((a/b)*(sym.cos(a)*sym.cos(a))*(sym.exp(-(a*a)/(b*b))))\n",
        "#symbolic expressions\n",
        "def symbolic_difa():\n",
        "  a = sym.Symbol('a')\n",
        "  b = sym.Symbol('b')\n",
        "  f=((a/b)*(sym.cos(a)*sym.cos(a))*(sym.exp(-(a*a)/(b*b))))\n",
        "  dif_a=sym.diff(f,a)\n",
        "  print(dif_a)\n",
        "\n",
        "def symbolic_difb():\n",
        "  a = sym.Symbol('a')\n",
        "  b = sym.Symbol('b')\n",
        "  f=((a/b)*(sym.cos(a)*sym.cos(a))*(sym.exp(-(a*a)/(b*b))))\n",
        "  dif_b=sym.diff(f,b)\n",
        "  print(dif_b)\n",
        "\n",
        "def exp(x):\n",
        "  return np.exp(x)\n",
        "\n",
        "def cos(x):\n",
        "  return np.cos(x)\n",
        "\n",
        "def sin(x):\n",
        "  return np.sin(x)\n",
        "\n",
        "\n",
        "def last_symbolic_diff_a(a,b):\n",
        "  return -2*a**2*exp(-a**2/b**2)*cos(a)**2/b**3 - 2*a*exp(-a**2/b**2)*sin(a)*cos(a)/b + exp(-a**2/b**2)*cos(a)**2/b\n",
        "\n",
        "\n",
        "def last_symbolic_diff_b(a,b):\n",
        "  return 2*a**3*exp(-a**2/b**2)*cos(a)**2/b**4 - a*exp(-a**2/b**2)*cos(a)**2/b**2\n",
        "\n",
        "#algorithmic differentiation \n",
        "def foo(a,b):\n",
        "  x = (a/b)*(np.cos(a))*(np.cos(a))\n",
        "  y = np.exp((-a*a)/(b*b))\n",
        "  return x*y\n",
        "\n",
        "def algo_diff():\n",
        "  df_da = jax.grad(foo, argnums=0)\n",
        "  df_db = jax.grad(foo, argnums=1)\n",
        "  return df_da,df_db\n",
        "\n",
        "df_dab = jax.grad(foo, argnums=(0,1))\n",
        "#----------------------------------------------------\n",
        "\n",
        "\n",
        "def mse():\n",
        "  lst= [(-19.1,1.1),(-17.1,20.1),(10.1,50.1),(17.1,70.1),(19.1,99.1)]\n",
        "  err1=0\n",
        "  err2=0\n",
        "  for (x,y) in lst:\n",
        "    first_x, first_y = df_dab(x,y)\n",
        "    second_x, second_y=last_symbolic_diff_a(x,y), last_symbolic_diff_b(x,y)\n",
        "    err1 +=(first_x -second_x)**2 \n",
        "    err2 += (first_y-second_y)**2\n",
        "  err1=err1/len(lst)\n",
        "  err2=err2/len(lst)\n",
        "  return (err1+err2)\n",
        "\n",
        "mse()"
      ],
      "execution_count": 4,
      "outputs": [
        {
          "output_type": "stream",
          "name": "stderr",
          "text": [
            "WARNING:absl:No GPU/TPU found, falling back to CPU. (Set TF_CPP_MIN_LOG_LEVEL=0 and rerun for more info.)\n"
          ]
        },
        {
          "output_type": "execute_result",
          "data": {
            "text/plain": [
              "DeviceArray(1.9985438e-16, dtype=float32, weak_type=True)"
            ]
          },
          "metadata": {},
          "execution_count": 4
        }
      ]
    },
    {
      "cell_type": "markdown",
      "metadata": {
        "id": "K95Vz9uTWzv5"
      },
      "source": [
        "3. Plot \n",
        "  * $f(a, 10)$, $\\frac {\\partial f(a, 10)} {\\partial a}$ for range $a \\in [-20, 20]$, \n",
        "  * $f(10, b)$, $\\frac {\\partial f(10, b)} {\\partial b}$ for range $b \\in 1, 100$."
      ]
    },
    {
      "cell_type": "code",
      "metadata": {
        "id": "nKErhdqUYhw6",
        "colab": {
          "base_uri": "https://localhost:8080/",
          "height": 513
        },
        "outputId": "5623a392-b76c-43fd-f86f-069028b54e45"
      },
      "source": [
        "def f_of_a_10(a):\n",
        "  b=10\n",
        "  x = (a/b)*(np.cos(a))*(np.cos(a))\n",
        "  y = np.exp((-a*a)/(b*b))\n",
        "  return x*y\n",
        "\n",
        "def f_of_10_b(b):\n",
        "  a=10\n",
        "  x = (a/b)*(np.cos(a))*(np.cos(a))\n",
        "  y = np.exp((-a*a)/(b*b))\n",
        "  return x*y\n",
        "\n",
        "def algo_diff2():\n",
        "  df_da = jax.grad(f_of_a_10)\n",
        "  return df_da\n",
        "\n",
        "def algo_diff3():\n",
        "  df_db = jax.grad(f_of_10_b)\n",
        "  return df_db\n",
        "\n",
        "diff_of_a = algo_diff2()\n",
        "diff_of_b = algo_diff3()\n",
        "\n",
        "a = np.linspace(-20,20,100)\n",
        "b = np.linspace(1,100,100)\n",
        "plt.plot(a, [ foo(a,10) for a in a], label=\"a f\")\n",
        "plt.plot(a, [ diff_of_a(a) for a in a], label=\"a df\")\n",
        "plt.legend()\n",
        "plt.show()\n",
        "plt.plot(b, [ foo(10,b) for b in b], label=\"b f\")\n",
        "plt.plot(b, [ diff_of_b(b) for b in b], label=\"b df\")\n",
        "plt.legend()\n",
        "plt.show()\n"
      ],
      "execution_count": 6,
      "outputs": [
        {
          "output_type": "display_data",
          "data": {
            "text/plain": [
              "<Figure size 432x288 with 1 Axes>"
            ],
            "image/png": "[encoded data removed]"
          },
          "metadata": {
            "needs_background": "light"
          }
        },
        {
          "output_type": "display_data",
          "data": {
            "text/plain": [
              "<Figure size 432x288 with 1 Axes>"
            ],
            "image/png": "[encoded data removed]"
          },
          "metadata": {
            "needs_background": "light"
          }
        }
      ]
    },
    {
      "cell_type": "markdown",
      "metadata": {
        "id": "ZT8qvZtLZVpr"
      },
      "source": [
        "4. Implement a function for approximate numerical differentiation, given the difference size $h$."
      ]
    },
    {
      "cell_type": "code",
      "metadata": {
        "id": "Xiylvd_FZnjB"
      },
      "source": [
        "def diff(f, x, h):\n",
        "  \"\"\"Differentiates f at x numerically, using h as the difference.\n",
        "  \"\"\"\n",
        "  step1=f(x)\n",
        "  step2=f(x+h)\n",
        "  approx_diff=(step2-step1)/h\n",
        "  return  approx_diff\n",
        "\n"
      ],
      "execution_count": 8,
      "outputs": []
    },
    {
      "cell_type": "markdown",
      "metadata": {
        "id": "NvamVGzCZzeT"
      },
      "source": [
        "5. Find the best difference size $h$ for differentiating\n",
        "   * $f(3, 10)$ by $a$.\n",
        "   * $f(1, 1)$ by $b$.\n",
        "\n",
        "(Print the best step size, the derivative obtained and the difference between the numerical and the exact (algorithmic or symbolic) derivatives)\n",
        "\n",
        "The best difference size minimizes the error of numerical differentiation relative to the exact differentiation.\n",
        "\n",
        "Note: In this excercise it is recommended to use gradient descent, however a simple search is also accepted.\n"
      ]
    },
    {
      "cell_type": "code",
      "metadata": {
        "id": "A-_-Mpn1aHuL",
        "colab": {
          "base_uri": "https://localhost:8080/"
        },
        "outputId": "310d2bfe-f5d0-4502-fcad-b588685a51fc"
      },
      "source": [
        "def diff2(f, a, b, h):\n",
        "  return (f(a+h, b+h) - f(a,b)) / h\n",
        "\n",
        "\n",
        "\n",
        "# check for f(3,10) by a\n",
        "h = 0.01\n",
        "first_x, first_y = df_dab(3.,10.)\n",
        "exa = first_x\n",
        "nume = diff2(foo,3.0,10.0,h)\n",
        "min_error = abs(nume - exa)\n",
        "\n",
        "for i in range(10000):\n",
        "  nume = diff2(foo,3.0,10.0,(i+2)*0.0001)\n",
        "  if(abs(nume - exa) < min_error):\n",
        "    min_error = abs(nume - exa)\n",
        "    h = (i+2)*0.01\n",
        "\n",
        "print(\"f(3,10) by a :\")\n",
        "print(f\"best h: { h } derivative obtained: { diff2(foo,3.0,10.0,h) }\")\n",
        "print(\"difference : \", min_error)\n",
        "\n",
        "\n",
        "#check for f(1,1) by b\n",
        "h = 0.01\n",
        "first_x, first_y = df_dab(1.,1.)\n",
        "exa = first_y\n",
        "nume = diff2(foo,1.,1.,h)\n",
        "min_error = abs(nume - exa)\n",
        "\n",
        "\n",
        "for i in range(10000):\n",
        "  nume = diff2(foo,1.0,1.0,(i+2)*0.0001)\n",
        "  if(abs(nume - exa) < min_error):\n",
        "    min_error = abs(nume - exa)\n",
        "    h = (i+2)*0.01\n",
        "\n",
        "print(\" f(1,1) by b:\")\n",
        "print(\"best h: \", h , \" derivative obtained: \", min_error)\n",
        "print(\"difference : \", abs(min_error - first_y))\n"
      ],
      "execution_count": 68,
      "outputs": [
        {
          "output_type": "stream",
          "name": "stdout",
          "text": [
            "f(3,10) by a :\n",
            "best h: 0.05 derivative obtained: 0.11490583419799805\n",
            "difference :  0.022088677\n",
            " f(1,1) by b:\n",
            "best h:  100.01  derivative obtained:  0.15104671\n",
            "difference :  0.043652907\n"
          ]
        }
      ]
    },
    {
      "cell_type": "markdown",
      "metadata": {
        "id": "mKLhu3Z9a3D5"
      },
      "source": [
        "## Question 2: Optimization\n",
        "\n",
        "### Logistic regression\n",
        "\n",
        "Logistic regression is a statiscal model that models the probability of an event happening. In binary logistic regression there is a single binary dependent variable coded by '0' or '1'.\n",
        "\n",
        "We can express the data as a tuple $(x,y)=(data,outcome)=(x,0/1)$\n",
        "\n",
        "To model the probability of event $x$, we can use the logistic function $p(x)=\\frac{1}{1+e^{-(x-\\mu)/s}}$.\n",
        "\n",
        "To find the appropiate $\\mu$, that maximizes the classifaction accuracy we minimize the loss function $-\\sum_{i=1}^N (y_i \\log p(x_i) + (1 - y_i) \\log (1 - p(x_i)))$.\n",
        "\n",
        "In some cases, we give more importance to correctly classify one event over an other (like contracting an illness over not contracting it), and one way to express this is to add a \"fixing parameter\" in the loss function. One way this can be achieved is by adding weights: $-\\sum_{i=1}^N (W_1y_i \\log p(x_i) + W_2(1 - y_i) \\log (1 - p(x_i)))$.\n"
      ]
    },
    {
      "cell_type": "markdown",
      "source": [
        "For a trial group of 20 rats, ratio of time exposed to a virus and the event of contracting that virus are given as a list of pairs (ratio, illness) (1 corresponds to having the illness):"
      ],
      "metadata": {
        "id": "eExKcFRWmh-T"
      }
    },
    {
      "cell_type": "code",
      "metadata": {
        "id": "5VHUHiJSbDZg"
      },
      "source": [
        "rats = [(0.47, 0), (0.23, 0), (0.86, 1), (0.22, 0), (0.21, 1),\n",
        "        (0.31, 0), (0.62, 0), (0.941, 1), (0.27, 0), (0.35, 1),\n",
        "        (0.18, 0), (0.13, 0), (0.31, 1), (0.99, 1), (0.85, 1), \n",
        "        (0.35, 1), (0.6, 1), (0.89, 0), (0.6, 1), (0.92, 0)]"
      ],
      "execution_count": 41,
      "outputs": []
    },
    {
      "cell_type": "markdown",
      "metadata": {
        "id": "hNnmQ8d2fAOl"
      },
      "source": [
        "We want to predict rat illness based on the ratio of exposure to a virus. The prediction function is\n",
        "\n",
        "$$illness = ratio \\ge threshold.$$\n",
        "\n",
        "The loss for this _classification_ problem is:\n",
        "\n",
        "\\begin{aligned}\n",
        "& L = -\\sum_{i=1}^N (W_1illness_i \\log p_i + W_2(1 - illness_i) \\log (1 - p_i)) \\\\\n",
        "\\mbox{where} & \\\\\n",
        "& p_i = \\frac 1 {1 + \\exp(threshold - ratio_i)}\n",
        "\\\\~\\\\\n",
        "\\mbox{and } &W_{1}, W_{2} \\mbox{ are weights}\n",
        "\\end{aligned}"
      ]
    },
    {
      "cell_type": "markdown",
      "metadata": {
        "id": "Ky3bsw8EgZsJ"
      },
      "source": [
        "1. Implement the loss as a function of the threshold, and weights."
      ]
    },
    {
      "cell_type": "code",
      "metadata": {
        "id": "LZjJjUUWghq-"
      },
      "source": [
        "def loss(thr, W1=1, W2=1):\n",
        "    l=0\n",
        "    for pair in rats:\n",
        "      pi=1/(1+np.exp(thr-pair[0]))\n",
        "      l=l+(W1*pair[1]*np.log(pi) + W2*(1-pair[1])*np.log(1-pi))\n",
        "    return -l"
      ],
      "execution_count": 42,
      "outputs": []
    },
    {
      "cell_type": "markdown",
      "metadata": {
        "id": "j22eKFdKgkti"
      },
      "source": [
        "2. Plot the loss and the derivative of the loss by the threshold in the range $threshold \\in (0.01, 0.99)$, and $ W_1, W_2 = 1$."
      ]
    },
    {
      "cell_type": "code",
      "metadata": {
        "id": "aFAjQG9Ug052",
        "colab": {
          "base_uri": "https://localhost:8080/",
          "height": 282
        },
        "outputId": "1589c767-7f09-46e8-c8fe-4e22dcf0f0e5"
      },
      "source": [
        "from random import random\n",
        "illness=[rat[1] for rat in rats]\n",
        "\n",
        "def loss_dg(thr):\n",
        "    d=jax.grad(loss)\n",
        "    return d(thr)\n",
        "\n",
        "x = np.linspace(0.01, 0.99, 100)\n",
        "d=jax.grad(loss)\n",
        "plt.plot(x,[loss(x) for x in x], label=\"loss\")\n",
        "plt.plot(x,[loss_dg(x) for x in x], label=\"d loss\")\n",
        "plt.legend()"
      ],
      "execution_count": 43,
      "outputs": [
        {
          "output_type": "execute_result",
          "data": {
            "text/plain": [
              "<matplotlib.legend.Legend at 0x7efec0c56f10>"
            ]
          },
          "metadata": {},
          "execution_count": 43
        },
        {
          "output_type": "display_data",
          "data": {
            "text/plain": [
              "<Figure size 432x288 with 1 Axes>"
            ],
            "image/png": "[encoded data removed]"
          },
          "metadata": {
            "needs_background": "light"
          }
        }
      ]
    },
    {
      "cell_type": "markdown",
      "metadata": {
        "id": "TIxEbOEdhBKf"
      },
      "source": [
        "3. Find the best threshold using gradient descent, and $ W_1, W_2$ such that the number of true positives (rats which have the illness and were correctly classified) is greater than $80\\%$, but the number of false positives ( rats which dont have the illness and were misclassified) is not $100\\%$. (Note: you can fix $W_2$ to be 1)"
      ]
    },
    {
      "cell_type": "code",
      "metadata": {
        "id": "Q0MMAREahDrT",
        "colab": {
          "base_uri": "https://localhost:8080/"
        },
        "outputId": "4ff88b03-97ad-4832-bdc4-309bb2a7bb9b"
      },
      "source": [
        "def best():\n",
        "    df = jax.grad(loss)\n",
        "    x = 0.1*(random()-0.5)\n",
        "    step=0.1\n",
        "    for i in range(100):\n",
        "      x -= df(x)*step\n",
        "      step *= 0.995\n",
        "    return x\n",
        "\n",
        "print(best())\n"
      ],
      "execution_count": 47,
      "outputs": [
        {
          "output_type": "stream",
          "name": "stdout",
          "text": [
            "0.51433843\n"
          ]
        }
      ]
    },
    {
      "cell_type": "markdown",
      "metadata": {
        "id": "zvD-L4rnhGCN"
      },
      "source": [
        "4. Find the best threshold using Newton's method, given $W_1, W_2$ from previous question. (Newton's method was explained in class). How many iterations were needed?"
      ]
    },
    {
      "cell_type": "code",
      "metadata": {
        "id": "MkF9ML7ohIR4",
        "colab": {
          "base_uri": "https://localhost:8080/"
        },
        "outputId": "3f5df100-cd2b-49a3-8a6e-1f7498df0003"
      },
      "source": [
        "\n",
        "def newton(f=loss, niter=10):\n",
        "  df = jax.grad(f)\n",
        "  ddf = jax.grad(df)\n",
        "  x = 0.1*(random()-0.5)\n",
        "  for i in range(niter):\n",
        "    x = x - df(x)/ddf(x)\n",
        "  return x\n",
        "\n",
        "\n",
        "print(newton(loss))"
      ],
      "execution_count": 56,
      "outputs": [
        {
          "output_type": "stream",
          "name": "stdout",
          "text": [
            "0.5143385\n"
          ]
        }
      ]
    },
    {
      "cell_type": "markdown",
      "metadata": {
        "id": "J17VCw3jlFWm"
      },
      "source": [
        "5. Show actual vs. predicted recoveries as a scatter plot for the best threshold. How many recoveries were misclassified?"
      ]
    },
    {
      "cell_type": "code",
      "metadata": {
        "id": "bGs13-yzlS3B",
        "colab": {
          "base_uri": "https://localhost:8080/",
          "height": 296
        },
        "outputId": "b921b459-9894-42f7-c6ec-a49393e8402c"
      },
      "source": [
        "\n",
        "plt.scatter([rat[0] for rat in rats], [rat[1] for rat in rats])\n",
        "plt.axvline(x=0.336, color=\"green\")\n",
        "plt.xlabel(\"ratios\")\n",
        "plt.ylabel(\"illnesses\")"
      ],
      "execution_count": 73,
      "outputs": [
        {
          "output_type": "execute_result",
          "data": {
            "text/plain": [
              "Text(0, 0.5, 'illnesses')"
            ]
          },
          "metadata": {},
          "execution_count": 73
        },
        {
          "output_type": "display_data",
          "data": {
            "text/plain": [
              "<Figure size 432x288 with 1 Axes>"
            ],
            "image/png": "[encoded data removed]"
          },
          "metadata": {
            "needs_background": "light"
          }
        }
      ]
    }
  ]
}